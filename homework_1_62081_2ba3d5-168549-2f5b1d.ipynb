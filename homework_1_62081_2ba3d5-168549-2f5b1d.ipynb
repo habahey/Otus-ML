{
 "cells": [
  {
   "cell_type": "markdown",
   "metadata": {},
   "source": [
    "# <center> Homework 1 </center>"
   ]
  },
  {
   "cell_type": "markdown",
   "metadata": {},
   "source": [
    "# 0. Где мы сейчас?\n",
    "<img src=\"https://upload.wikimedia.org/wikipedia/commons/thumb/3/38/Jupyter_logo.svg/1200px-Jupyter_logo.svg.png\" width=\"150\">\n",
    "\n",
    "[Jupyter Notebook](https://jupyter.org/) - интерактивная среда для запуска программного кода в браузере. Удобный инструмент для анализа данных, который используется многими специалистами по data science. Позволяет выполнять отдельные ячейки с кодом, а не всю программу сразу, что очень удобно при знакомстве с данными."
   ]
  },
  {
   "cell_type": "markdown",
   "metadata": {},
   "source": [
    "# 1. Python\n",
    "> Python - это свободный интерпретируемый объектно-ориентированный расширяемый встраиваемый язык программирования очень высокого уровня \n",
    "\n",
    ">*(Г.Россум, Ф.Л.Дж.Дрейк, Д.С.Откидач \"Язык программирования Python\").*\n",
    "\n",
    "А если без цитат, то питон - это просто очень крутой язык, созданный в 1991 году [Великодушным пожизненным диктатором](https://ru.wikipedia.org/wiki/%D0%92%D0%B5%D0%BB%D0%B8%D0%BA%D0%BE%D0%B4%D1%83%D1%88%D0%BD%D1%8B%D0%B9_%D0%BF%D0%BE%D0%B6%D0%B8%D0%B7%D0%BD%D0%B5%D0%BD%D0%BD%D1%8B%D0%B9_%D0%B4%D0%B8%D0%BA%D1%82%D0%B0%D1%82%D0%BE%D1%80) Гвидо ван Россумом и названный в честь любимого им шоу [Monty Python's Flying Circus](https://en.wikipedia.org/wiki/Monty_Python%27s_Flying_Circus)\n",
    "\n",
    "<img src=\"https://advancelocal-adapter-image-uploads.s3.amazonaws.com/image.oregonlive.com/home/olive-media/width2048/img/tv/photo/2018/10/10/montycastjpg-7ef393e2355a42aa.jpg\" width=\"300\">"
   ]
  },
  {
   "cell_type": "markdown",
   "metadata": {},
   "source": [
    "# 2. Anaconda\n",
    "\n",
    "<img src=\"https://cdn-images-1.medium.com/max/1600/0*MVkCW8_Bmj-nuAnI.png\" width=\"300\">\n",
    "\n",
    "[Сборка Anaconda](https://www.anaconda.com/products/individual) включает очень много полезных библиотек для анализа данных. \n",
    "\n",
    "Среди наиболее популярных библиотек:\n",
    " - <a href=\"http://numpy.org\">Numpy</a> - это один из основных пакетов для математических вычислений. Он содержит средства для работы с многомерными массивами и высокоуровневыми математическими функциями\n",
    " - <a href=\"https://www.scipy.org/\">SciPy</a> - научные вычисления. Методы оптимизации, интегрирования, модули обработки сигналов и изображений, статистика, линейная алгебра, сплайны, кластеризация и многое другое\n",
    " -  <a href=\"http://pandas.pydata.org/\">Pandas</a> - основная библиотека для обработки и анализа данных. Предназначена для данных разной природы - матричных, панельных данных, временных рядов. Претендует на звание самого мощного и гибкого средства для анализа данных с открытым исходным кодом\n",
    " - <a href=\"http://scikit-learn.org/stable/\">Scikit-learn</a> - реализация очень многих методов машинного обучения с отличной документацией. \n",
    " - <a href=\"http://http://matplotlib.org/\">matplotlib</a> - хорошая библиотека для визуализации данных"
   ]
  },
  {
   "cell_type": "markdown",
   "metadata": {},
   "source": [
    "# 3. Задачки"
   ]
  },
  {
   "cell_type": "markdown",
   "metadata": {},
   "source": [
    "## Задача 1\n",
    "$N$ хоббитов делят $K$ кусков эльфийского хлеба поровну, не делящийся нацело остаток остается в корзинке у Сэма. Напишите функцию, которая принимает на вход параметры $N$ и $K$ и возвращает два числа: $x$ - cколько кусков эльфиского хлеба достанется каждому хоббиту, и $y$ - сколько кусков остаётся в корзинке."
   ]
  },
  {
   "cell_type": "code",
   "execution_count": 17,
   "metadata": {},
   "outputs": [],
   "source": [
    "def share_bread(N, K):\n",
    "    x = K // N\n",
    "    y = K - N*x\n",
    "    return x, y\n",
    "\n",
    "# если в функции всё верно, то после выполнения этой строчки, не должно выскакивать ошибок\n",
    "assert share_bread(N=3, K=14) == (4, 2)"
   ]
  },
  {
   "cell_type": "markdown",
   "metadata": {},
   "source": [
    "## Задача 2\n",
    "\n",
    "В копях Мории хоббиты нашли стену, на которой высечены разные натуральные числа. Согласно древним сказаниям, это даты сражений. Хоббиты знают, что сражения происходили только по високосным годам. Помогите хоббитам определить, является ли год с данным числом датой великого сражения. Если это так, то верните строку \"YOU SHALL PASS\", иначе верните \"YOU SHALL NOT PASS\". Напомним, что в соответствии с хоббитским календарем, год является високосным, если его номер кратен 4, но не кратен 100, а также если он кратен 400."
   ]
  },
  {
   "cell_type": "code",
   "execution_count": 87,
   "metadata": {},
   "outputs": [
    {
     "name": "stdout",
     "output_type": "stream",
     "text": [
      "YOU SHALL NOT PASS\n"
     ]
    }
   ],
   "source": [
    "def leap_year(year):\n",
    "    # your code here\n",
    "    \n",
    "    flag = 0\n",
    "    \n",
    "    if year % 4 == 0 and year % 100 !=0:\n",
    "        text_result = \"YOU SHALL PASS\"\n",
    "        flag +=1\n",
    "    if year % 400 == 0:\n",
    "        text_result = \"YOU SHALL PASS\"\n",
    "        flag +=1\n",
    "    \n",
    "    #print (year % 4,  4 % year)\n",
    "    #print (year % 100, 100 % year)\n",
    "    #print (year % 400, 400 % year)\n",
    "    \n",
    "    if flag == 0: text_result = \"YOU SHALL NOT PASS\"\n",
    "    \n",
    "    return text_result\n",
    "\n",
    "print (leap_year(5))\n",
    "assert leap_year(5) == 'YOU SHALL NOT PASS'\n"
   ]
  },
  {
   "cell_type": "markdown",
   "metadata": {},
   "source": [
    "## Задача 3\n",
    "<img src=\"http://i0.kym-cdn.com/photos/images/original/001/187/255/5e9.gif\" width=300>\n",
    "Для могущественного магического ритуала Гендальфу необходимо быстро подсчитывать площадь своего амулета, который умеет менять размеры. Известно, что амулет имеет форму треугольника и Гендальф знает длину каждой из сторон. Напишите функцию, которая считает площадь амулета по трем сторонам.  \n",
    "\n",
    "Подсказка: используйте формулу Герона\n",
    "$$ S = \\sqrt{p(p-a)(p-b)(p-c)} $$\n",
    "$$ p = \\frac{a + b + c}{2}$$\n"
   ]
  },
  {
   "cell_type": "code",
   "execution_count": 27,
   "metadata": {},
   "outputs": [],
   "source": [
    "import numpy as np\n",
    "\n",
    "\n",
    "def amulet_area(a, b, c):\n",
    "    p = (a + b + c)  / 2\n",
    "    S = (p * (p-a) * (p-b) * (p-c)) ** 0.5\n",
    "    # your code here\n",
    "    return S\n",
    "\n",
    "assert amulet_area(3, 4, 5) == 6"
   ]
  },
  {
   "cell_type": "markdown",
   "metadata": {},
   "source": [
    "## Задача 4\n",
    "\n",
    "Хоббиты собираются пешком идти до Мордора и им нужно подсчитать расстояние, которое им предстоит пройти. Хоббиты смогли вспомнить сразу несколько метрик расстояния: евклидово, манхэттена и косинусное, так что ваша задача - напистаь функцию под каждую из них. Важное условие - используйте только базовые функции numpy для решения.\n",
    "\n",
    "\n",
    "* Евклидово расстояние\n",
    "$$ d(a, b) = \\sqrt{\\sum_i (a_i - b_i)^2} $$\n",
    "* Расстояние Манхэттена\n",
    "$$ d(a, b) = \\sum_i |a_i - b_i| $$\n",
    "* Косинусное расстояние\n",
    "$$ d(a, b) = 1 - \\frac{a^\\top b}{||a||_2\\cdot||b||_2}$$"
   ]
  },
  {
   "cell_type": "code",
   "execution_count": 56,
   "metadata": {},
   "outputs": [],
   "source": [
    "import numpy as np\n",
    "\n",
    "def cal_euclidean(a, b):    \n",
    "    ## Your code here\n",
    "    c_euclidean = (a - b)**2\n",
    "    distance = np.sqrt(np.sum(c_euclidean))\n",
    "    #print (distance)\n",
    "    return distance\n",
    "\n",
    "def cal_manhattan(a, b):    \n",
    "    ## Your code here\n",
    "    c_manhattan = abs (a - b)\n",
    "    distance = np.sum (c_manhattan)\n",
    "    return distance\n",
    "\n",
    "def cal_cosine(a, b):    \n",
    "    ## Your code here\n",
    "    distance = 1 - (np.dot(a,b)/(np.linalg.norm(a) * np.linalg.norm(b)))\n",
    "    \n",
    "    return distance"
   ]
  },
  {
   "cell_type": "code",
   "execution_count": 89,
   "metadata": {},
   "outputs": [
    {
     "name": "stdout",
     "output_type": "stream",
     "text": [
      "19.183326093250876\n",
      "46\n",
      "0.5848542477406808\n"
     ]
    }
   ],
   "source": [
    "a = np.random.randint(-10, 10, size=10)\n",
    "#print (a)\n",
    "b = np.random.randint(-10, 10, size=10)\n",
    "#print (b)\n",
    "\n",
    "c =  a - b\n",
    "c_euclidean = (a - b)**2\n",
    "c_manhattan = abs (a - b)\n",
    "\n",
    "\n",
    "print(cal_euclidean(a, b))\n",
    "print(cal_manhattan(a, b))\n",
    "print(cal_cosine(a, b))"
   ]
  },
  {
   "cell_type": "markdown",
   "metadata": {},
   "source": [
    "## Задача 5\n",
    "\n",
    "Ну и напоследок, еще немного практики numpy, без которой не обходится ни один хоббит.\n"
   ]
  },
  {
   "cell_type": "markdown",
   "metadata": {},
   "source": [
    "Создайте случайный array (`np.random.rand()`) длинной 100. Преобразуйте его так, чтобы\n",
    "* Максимальный элемент(ы) был равен 1\n",
    "* Минимальный элемент(ы) был равен 0\n",
    "* Остальные элементы в итнтервале от 0 до 1 остаются прежними"
   ]
  },
  {
   "cell_type": "code",
   "execution_count": 6,
   "metadata": {},
   "outputs": [
    {
     "name": "stdout",
     "output_type": "stream",
     "text": [
      "0.9806177234567132 0.019578240826007454\n",
      "[[0.37826431 0.19410384 0.98061772 0.55328027 0.87069172 0.59055239\n",
      "  0.6911613  0.8102602  0.71115749 0.66166691 0.89088057 0.85628806\n",
      "  0.62314938 0.25603034 0.86511593 0.68511634 0.94654    0.1672458\n",
      "  0.85188911 0.14357936 0.62004127 0.48312306 0.25978746 0.61563568\n",
      "  0.30609848 0.87588788 0.47562303 0.91952855 0.13291144 0.09173821\n",
      "  0.62800982 0.78918835 0.85465952 0.40314377 0.30343362 0.15353035\n",
      "  0.64494255 0.91157224 0.54914414 0.82826433 0.77110738 0.01957824\n",
      "  0.64625254 0.04591243 0.55743227 0.19200669 0.8542651  0.57870993\n",
      "  0.3397741  0.65399889 0.72417846 0.14383072 0.92204811 0.80698734\n",
      "  0.85664266 0.83404805 0.30720618 0.51250124 0.47581904 0.20516523\n",
      "  0.80055858 0.97638871 0.0893962  0.84885589 0.71375169 0.51930246\n",
      "  0.60047087 0.51101683 0.78440283 0.39857433 0.29040473 0.88000182\n",
      "  0.64420846 0.73161813 0.30467175 0.59271992 0.78759252 0.06349891\n",
      "  0.76539859 0.27095883 0.14728716 0.20307739 0.25016352 0.287658\n",
      "  0.21821008 0.29990513 0.02542304 0.54272834 0.7797895  0.78964607\n",
      "  0.58732725 0.88915048 0.20690951 0.92434262 0.26920928 0.14832914\n",
      "  0.39797012 0.05780062 0.22512859 0.70735348]]\n",
      "\n",
      " [[0.37826431 0.19410384 1.         0.55328027 0.87069172 0.59055239\n",
      "  0.6911613  0.8102602  0.71115749 0.66166691 0.89088057 0.85628806\n",
      "  0.62314938 0.25603034 0.86511593 0.68511634 0.94654    0.1672458\n",
      "  0.85188911 0.14357936 0.62004127 0.48312306 0.25978746 0.61563568\n",
      "  0.30609848 0.87588788 0.47562303 0.91952855 0.13291144 0.09173821\n",
      "  0.62800982 0.78918835 0.85465952 0.40314377 0.30343362 0.15353035\n",
      "  0.64494255 0.91157224 0.54914414 0.82826433 0.77110738 0.\n",
      "  0.64625254 0.04591243 0.55743227 0.19200669 0.8542651  0.57870993\n",
      "  0.3397741  0.65399889 0.72417846 0.14383072 0.92204811 0.80698734\n",
      "  0.85664266 0.83404805 0.30720618 0.51250124 0.47581904 0.20516523\n",
      "  0.80055858 0.97638871 0.0893962  0.84885589 0.71375169 0.51930246\n",
      "  0.60047087 0.51101683 0.78440283 0.39857433 0.29040473 0.88000182\n",
      "  0.64420846 0.73161813 0.30467175 0.59271992 0.78759252 0.06349891\n",
      "  0.76539859 0.27095883 0.14728716 0.20307739 0.25016352 0.287658\n",
      "  0.21821008 0.29990513 0.02542304 0.54272834 0.7797895  0.78964607\n",
      "  0.58732725 0.88915048 0.20690951 0.92434262 0.26920928 0.14832914\n",
      "  0.39797012 0.05780062 0.22512859 0.70735348]]\n"
     ]
    }
   ],
   "source": [
    "import numpy as np\n",
    "\n",
    "my_array = np.random.rand (1,100)\n",
    "print(np.max(my_array), np.min(my_array))\n",
    "print(my_array)\n",
    "\n",
    "max=np.max(my_array)\n",
    "min=np.min(my_array)\n",
    "\n",
    "my_array[my_array == min ] = 0\n",
    "my_array[my_array == max ] = 1\n",
    "\n",
    "print('\\n',my_array)\n"
   ]
  },
  {
   "cell_type": "markdown",
   "metadata": {},
   "source": [
    "Создайте array размером $5 \\times 6$ с целыми числами в интервале [0,50]. Напечатайте колонку, которая содержит максимальный элемент полученной матрицы "
   ]
  },
  {
   "cell_type": "code",
   "execution_count": 41,
   "metadata": {},
   "outputs": [
    {
     "name": "stdout",
     "output_type": "stream",
     "text": [
      "Shape:  (5, 6)\n",
      "Array\n",
      "[[35 20 23  6  8 45]\n",
      " [49 40 22  2 48 31]\n",
      " [ 8 46 33  1  5 16]\n",
      " [26 48 31 36 49 41]\n",
      " [27  2 43  9 40 30]]\n",
      "[1 3] [0 4]\n",
      "49\n",
      "[array([35,  8]), array([49, 48]), array([8, 5]), array([26, 49]), array([27, 40])]\n"
     ]
    }
   ],
   "source": [
    "my_array = np.random.randint (0, 51, size=(5,6))\n",
    "\n",
    "#ind = np.argmax(my_array)\n",
    "\n",
    "x, y = np.where(my_array == np.max(my_array))\n",
    "\n",
    "selected_column = [row[y] for row in my_array]\n",
    "\n",
    "print('Shape: ',my_array.shape)\n",
    "print('Array')\n",
    "print(my_array)\n",
    "\n",
    "\n",
    "\n",
    "#print (ind)\n",
    "\n",
    "print (x, y)\n",
    "print (np.max(my_array))\n",
    "print(selected_column)"
   ]
  },
  {
   "cell_type": "markdown",
   "metadata": {},
   "source": [
    "Напишите функцию, которая принимает на вохд матрицу (array) X и возвращает все её уникальные строки в виде новой матрицы."
   ]
  },
  {
   "cell_type": "code",
   "execution_count": 55,
   "metadata": {},
   "outputs": [],
   "source": [
    "def get_unique_rows(X):\n",
    "    X_unique = np.unique(X, axis=0)\n",
    "    #print (X_unique)\n",
    "    return X_unique"
   ]
  },
  {
   "cell_type": "code",
   "execution_count": 56,
   "metadata": {},
   "outputs": [
    {
     "name": "stdout",
     "output_type": "stream",
     "text": [
      "[[5 5 5]\n",
      " [4 5 4]\n",
      " [4 4 4]\n",
      " [4 5 4]\n",
      " [5 5 4]\n",
      " [4 4 5]\n",
      " [4 5 5]\n",
      " [5 4 5]\n",
      " [4 4 5]\n",
      " [4 4 5]]\n"
     ]
    }
   ],
   "source": [
    "X = np.random.randint(4, 6, size=(10,3))\n",
    "print(X)"
   ]
  },
  {
   "cell_type": "code",
   "execution_count": 57,
   "metadata": {},
   "outputs": [
    {
     "data": {
      "text/plain": [
       "array([[4, 4, 4],\n",
       "       [4, 4, 5],\n",
       "       [4, 5, 4],\n",
       "       [4, 5, 5],\n",
       "       [5, 4, 5],\n",
       "       [5, 5, 4],\n",
       "       [5, 5, 5]])"
      ]
     },
     "execution_count": 57,
     "metadata": {},
     "output_type": "execute_result"
    }
   ],
   "source": [
    "get_unique_rows(X)"
   ]
  },
  {
   "cell_type": "code",
   "execution_count": null,
   "metadata": {},
   "outputs": [],
   "source": []
  }
 ],
 "metadata": {
  "kernelspec": {
   "display_name": "Python 3 (ipykernel)",
   "language": "python",
   "name": "python3"
  },
  "language_info": {
   "codemirror_mode": {
    "name": "ipython",
    "version": 3
   },
   "file_extension": ".py",
   "mimetype": "text/x-python",
   "name": "python",
   "nbconvert_exporter": "python",
   "pygments_lexer": "ipython3",
   "version": "3.11.6"
  },
  "varInspector": {
   "cols": {
    "lenName": 16,
    "lenType": 16,
    "lenVar": 40
   },
   "kernels_config": {
    "python": {
     "delete_cmd_postfix": "",
     "delete_cmd_prefix": "del ",
     "library": "var_list.py",
     "varRefreshCmd": "print(var_dic_list())"
    },
    "r": {
     "delete_cmd_postfix": ") ",
     "delete_cmd_prefix": "rm(",
     "library": "var_list.r",
     "varRefreshCmd": "cat(var_dic_list()) "
    }
   },
   "types_to_exclude": [
    "module",
    "function",
    "builtin_function_or_method",
    "instance",
    "_Feature"
   ],
   "window_display": false
  }
 },
 "nbformat": 4,
 "nbformat_minor": 2
}
